{
  "nbformat": 4,
  "nbformat_minor": 0,
  "metadata": {
    "colab": {
      "name": "Αντίγραφο Αντίγραφο Untitled7.ipynb",
      "provenance": [],
      "collapsed_sections": [],
      "authorship_tag": "ABX9TyNPJehY26mlqmaqPGWVNKo8",
      "include_colab_link": true
    },
    "kernelspec": {
      "name": "python3",
      "display_name": "Python 3"
    },
    "language_info": {
      "name": "python"
    }
  },
  "cells": [
    {
      "cell_type": "markdown",
      "metadata": {
        "id": "view-in-github",
        "colab_type": "text"
      },
      "source": [
        "<a href=\"https://colab.research.google.com/github/DimitrisZarmpoutis/Python-1/blob/main/11_Monod_Equation_proper_parameters_based_on_lotca_voltera.ipynb\" target=\"_parent\"><img src=\"https://colab.research.google.com/assets/colab-badge.svg\" alt=\"Open In Colab\"/></a>"
      ]
    },
    {
      "cell_type": "code",
      "metadata": {
        "id": "7QBbUYkNy-8T"
      },
      "source": [
        "import numpy as np\n",
        "import scipy.integrate as integrate\n",
        "import matplotlib.pylab as p"
      ],
      "execution_count": 5,
      "outputs": []
    },
    {
      "cell_type": "code",
      "metadata": {
        "colab": {
          "base_uri": "https://localhost:8080/",
          "height": 295
        },
        "id": "JdOmsdw2CC1z",
        "outputId": "948a2568-f419-4a22-975e-1fca0aa5e9a3"
      },
      "source": [
        "def dMS_dt (pops,t=0):\n",
        "  M = pops [0]\n",
        "  S = pops [0]\n",
        "  Mmax=1.35\n",
        "  S=0.000022\n",
        "  Ks=3.76\n",
        "  Yg=0.4036\n",
        "  dMdt=(S/(Ks+S))*M*Mmax\n",
        "  dSdt=-M*S/Yg\n",
        "  y=np.array([dMdt,dSdt])\n",
        "  dMdt\n",
        "  dSdt\n",
        "  return np.array([dMdt,dSdt])\n",
        "  np\n",
        "t = np.linspace (0, 15, 1000)\n",
        "M0=0\n",
        "S0=0\n",
        "MS0=np.array([M0,S0])\n",
        "pops, infodict=integrate.odeint(dMS_dt, MS0, t,full_output=True)\n",
        "pops \n",
        "type(infodict)\n",
        "infodict.keys()\n",
        "infodict['message']\n",
        "p.plot (t, pops[:,0], 'g-', label='growth rate') # Plot\n",
        "p.plot (t, pops[:,0], 'b-', label='concentration of the limiting substrate')\n",
        "p.grid()\n",
        "p.legend(loc='best')\n",
        "p.xlabel ('concentration of the limiting substrate')\n",
        "p.ylabel ('growth rate')\n",
        "p.title ('Monod Equation')\n",
        "p.show()# To display the figure"
      ],
      "execution_count": 6,
      "outputs": [
        {
          "output_type": "display_data",
          "data": {
            "image/png": "[encoded data removed]",
            "text/plain": [
              "<Figure size 432x288 with 1 Axes>"
            ]
          },
          "metadata": {
            "needs_background": "light"
          }
        }
      ]
    }
  ]
}