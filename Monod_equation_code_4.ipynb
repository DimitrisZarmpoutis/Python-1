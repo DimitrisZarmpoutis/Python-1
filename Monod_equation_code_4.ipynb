{
  "nbformat": 4,
  "nbformat_minor": 0,
  "metadata": {
    "colab": {
      "name": "Αντίγραφο Untitled7.ipynb",
      "provenance": [],
      "collapsed_sections": [],
      "authorship_tag": "ABX9TyNCOyY7fJWrcEsGK6p167gc",
      "include_colab_link": true
    },
    "kernelspec": {
      "name": "python3",
      "display_name": "Python 3"
    },
    "language_info": {
      "name": "python"
    }
  },
  "cells": [
    {
      "cell_type": "markdown",
      "metadata": {
        "id": "view-in-github",
        "colab_type": "text"
      },
      "source": [
        "<a href=\"https://colab.research.google.com/github/DimitrisZarmpoutis/Python-1/blob/main/Monod_equation_code_4.ipynb\" target=\"_parent\"><img src=\"https://colab.research.google.com/assets/colab-badge.svg\" alt=\"Open In Colab\"/></a>"
      ]
    },
    {
      "cell_type": "code",
      "metadata": {
        "id": "7QBbUYkNy-8T"
      },
      "source": [
        "import numpy as np\n",
        "import scipy.integrate as integrate\n",
        "import matplotlib.pylab as np"
      ],
      "execution_count": null,
      "outputs": []
    },
    {
      "cell_type": "code",
      "metadata": {
        "colab": {
          "base_uri": "https://localhost:8080/",
          "height": 235
        },
        "id": "JdOmsdw2CC1z",
        "outputId": "1803d632-c5c3-4a53-9c79-c21b2035f236"
      },
      "source": [
        "def M (pops,t=0):  \n",
        "  M = pops [0]\n",
        "  S = pops [1]\n",
        "  Mmax=1\n",
        "  S=0.1\n",
        "  Ks=1.5\n",
        "  μο=1\n",
        "  qo=1\n",
        "  Kp=1\n",
        "  p=1\n",
        "  Ksa=1\n",
        "  Ksb=1\n",
        "  X=1\n",
        "  M=Mmax*(S/(Ks+S))\n",
        "  dSdt=dXdt/Yg+dPdt/Yp+MX\n",
        "  dXdt=(μο*Kp/(Kp+p))*(S/(Ksa+S))*X\n",
        "  dPdt=(qo*Kp/(Kp+p))*(S/(Ksb+S))*X\n",
        "  return np.array(M)\n",
        "t = np.linspace (0, 15, 1000)\n",
        "Mmax=15\n",
        "S0=10\n",
        "Ks0=5\n",
        "SKs0=np.array([S0,Ks0])\n",
        "pops, infodict=integrate.odeint(M,SKs0,t,full_output=True)\n",
        "pops\n",
        "type(infodict)\n",
        "infodict.keys()\n",
        "infodict['message']\n",
        "p.plot (t, pops[:,0], 'g-', label='Resource density') # Plot\n",
        "p.plot (t, pops[:,1], 'b-' , label='Consumer density')\n",
        "p.grid()\n",
        "p.legend(loc='best')\n",
        "p.xlabel ('time')\n",
        "p.ylabel ('population density')\n",
        "p.title ('consumer-resource population dynamics')\n",
        "p.show()# To display the figure"
      ],
      "execution_count": 2,
      "outputs": [
        {
          "output_type": "error",
          "ename": "NameError",
          "evalue": "ignored",
          "traceback": [
            "\u001b[0;31m---------------------------------------------------------------------------\u001b[0m",
            "\u001b[0;31mNameError\u001b[0m                                 Traceback (most recent call last)",
            "\u001b[0;32m<ipython-input-2-5fe22c38f91a>\u001b[0m in \u001b[0;36m<module>\u001b[0;34m()\u001b[0m\n\u001b[1;32m     18\u001b[0m   \u001b[0;32mreturn\u001b[0m \u001b[0mnp\u001b[0m\u001b[0;34m.\u001b[0m\u001b[0marray\u001b[0m\u001b[0;34m(\u001b[0m\u001b[0mM\u001b[0m\u001b[0;34m)\u001b[0m\u001b[0;34m\u001b[0m\u001b[0;34m\u001b[0m\u001b[0m\n\u001b[1;32m     19\u001b[0m   \u001b[0mnp\u001b[0m\u001b[0;34m\u001b[0m\u001b[0;34m\u001b[0m\u001b[0m\n\u001b[0;32m---> 20\u001b[0;31m \u001b[0mt\u001b[0m \u001b[0;34m=\u001b[0m \u001b[0mnp\u001b[0m\u001b[0;34m.\u001b[0m\u001b[0mlinspace\u001b[0m \u001b[0;34m(\u001b[0m\u001b[0;36m0\u001b[0m\u001b[0;34m,\u001b[0m \u001b[0;36m15\u001b[0m\u001b[0;34m,\u001b[0m \u001b[0;36m1000\u001b[0m\u001b[0;34m)\u001b[0m\u001b[0;34m\u001b[0m\u001b[0;34m\u001b[0m\u001b[0m\n\u001b[0m\u001b[1;32m     21\u001b[0m \u001b[0mMmax\u001b[0m\u001b[0;34m=\u001b[0m\u001b[0;36m15\u001b[0m\u001b[0;34m\u001b[0m\u001b[0;34m\u001b[0m\u001b[0m\n\u001b[1;32m     22\u001b[0m \u001b[0mS0\u001b[0m\u001b[0;34m=\u001b[0m\u001b[0;36m10\u001b[0m\u001b[0;34m\u001b[0m\u001b[0;34m\u001b[0m\u001b[0m\n",
            "\u001b[0;31mNameError\u001b[0m: name 'np' is not defined"
          ]
        }
      ]
    },
    {
      "cell_type": "code",
      "metadata": {
        "id": "0YNckXD7yk3q"
      },
      "source": [
        ""
      ],
      "execution_count": null,
      "outputs": []
    }
  ]
}