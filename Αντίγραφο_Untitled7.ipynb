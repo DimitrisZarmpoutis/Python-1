{
  "nbformat": 4,
  "nbformat_minor": 0,
  "metadata": {
    "colab": {
      "name": "Αντίγραφο Untitled7.ipynb",
      "provenance": [],
      "collapsed_sections": [],
      "authorship_tag": "ABX9TyPy/leRRaq/TFaazWS51oHY",
      "include_colab_link": true
    },
    "kernelspec": {
      "name": "python3",
      "display_name": "Python 3"
    },
    "language_info": {
      "name": "python"
    }
  },
  "cells": [
    {
      "cell_type": "markdown",
      "metadata": {
        "id": "view-in-github",
        "colab_type": "text"
      },
      "source": [
        "<a href=\"https://colab.research.google.com/github/DimitrisZarmpoutis/Python-1/blob/main/%CE%91%CE%BD%CF%84%CE%AF%CE%B3%CF%81%CE%B1%CF%86%CE%BF_Untitled7.ipynb\" target=\"_parent\"><img src=\"https://colab.research.google.com/assets/colab-badge.svg\" alt=\"Open In Colab\"/></a>"
      ]
    },
    {
      "cell_type": "code",
      "metadata": {
        "colab": {
          "base_uri": "https://localhost:8080/",
          "height": 130
        },
        "id": "JdOmsdw2CC1z",
        "outputId": "18466d89-9171-4db6-d068-74159ee63aed"
      },
      "source": [
        "import scipy.integrate as integrate\n",
        "def dCR_dt (pops,t=0):\n",
        " R = pops [0]\n",
        " C = pops [1]\n",
        " y = p.array([dRdt,dCdt])\n",
        " dRdt = r*R - a*R*C\n",
        " dCdt = -z*C + e*a*R*C\n",
        " return p.array([dRdt,dCdt]\n",
        " r=1\n",
        " a=0.1\n",
        " z=1.5\n",
        " e=0.75\n",
        "t = p.linspace (0, 15, 1000)\n",
        "import matplotlib.pylab as p\n",
        "R0=10\n",
        "C0=5\n",
        "RC0=np.array([R0,C0])\n",
        "pops, infodict=integrade.odeint(dCR_dt,RC0,t,full_output=True)\n",
        "pops\n",
        "typeinfodict\n",
        "infodict.keys()\n",
        "infodict['message']\n",
        "p.plot (t, pops[:,0], 'g-', label='Resource density') # Plot\n",
        "p.plot (t, pops[:,1], 'b-' , label='Consumer density')\n",
        "p.grid()\n",
        "plegend(loc='best')\n",
        "p.xlbel ('time')\n",
        "p.ylabel ('population density')\n",
        "p.title ('consumer-resource population dynamics')\n",
        "p.show()# To display the figure"
      ],
      "execution_count": 16,
      "outputs": [
        {
          "output_type": "error",
          "ename": "SyntaxError",
          "evalue": "ignored",
          "traceback": [
            "\u001b[0;36m  File \u001b[0;32m\"<ipython-input-16-9df69d64bb7e>\"\u001b[0;36m, line \u001b[0;32m9\u001b[0m\n\u001b[0;31m    r=1\u001b[0m\n\u001b[0m    ^\u001b[0m\n\u001b[0;31mSyntaxError\u001b[0m\u001b[0;31m:\u001b[0m invalid syntax\n"
          ]
        }
      ]
    }
  ]
}